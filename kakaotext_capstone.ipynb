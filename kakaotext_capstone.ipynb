{
 "cells": [
  {
   "cell_type": "markdown",
   "metadata": {},
   "source": [
    "# 라이브러리 불러오기"
   ]
  },
  {
   "cell_type": "code",
   "execution_count": 1,
   "metadata": {},
   "outputs": [],
   "source": [
    "# -*- coding: utf-8 -*-\n",
    "\n",
    "%matplotlib inline\n",
    "\n",
    "import pandas as pd\n",
    "import numpy as np\n",
    "import matplotlib.pyplot as plt\n",
    "import seaborn as sns\n",
    "import selenium\n",
    "import konlpy\n",
    "\n",
    "import warnings\n",
    "warnings.filterwarnings(\"ignore\")"
   ]
  },
  {
   "cell_type": "markdown",
   "metadata": {},
   "source": [
    "## Step 1. 웹 크롤링"
   ]
  },
  {
   "cell_type": "code",
   "execution_count": 2,
   "metadata": {
    "scrolled": true
   },
   "outputs": [
    {
     "name": "stdout",
     "output_type": "stream",
     "text": [
      "https://place.map.kakao.com/95713992\n",
      "https://place.map.kakao.com/1503746075\n",
      "https://place.map.kakao.com/741391811\n",
      "https://place.map.kakao.com/2011092566\n",
      "https://place.map.kakao.com/1648266796\n",
      "https://place.map.kakao.com/13573220\n",
      "https://place.map.kakao.com/2062959414\n",
      "https://place.map.kakao.com/168079537\n",
      "https://place.map.kakao.com/27238067\n",
      "https://place.map.kakao.com/263830255\n",
      "https://place.map.kakao.com/1052874675\n",
      "https://place.map.kakao.com/1907052666\n",
      "https://place.map.kakao.com/1780387311\n",
      "https://place.map.kakao.com/1111006760\n",
      "https://place.map.kakao.com/1511737742\n"
     ]
    }
   ],
   "source": [
    "from selenium import webdriver\n",
    "from bs4 import BeautifulSoup\n",
    "import re\n",
    "import time\n",
    "\n",
    "\n",
    "# 크롤링할 사이트 주소를 정의합니다.\n",
    "source_url = 'https://map.kakao.com/'\n",
    "\n",
    "# 크롬 드라이버를 사용합니다 ( 윈도우는 두번째 줄 실행)\n",
    "driver = webdriver.Chrome('C:/python/chromedriver_win32/chromedriver.exe')  # 크롬 드라이버로 크롬 켜기  \n",
    "\n",
    "# 카카오 지도에 접속합니다\n",
    "driver.get(source_url)\n",
    "\n",
    "# 검색창에 검색어를 입력합니다\n",
    "searchbox = driver.find_element_by_xpath(\"//input[@id='search.keyword.query']\")\n",
    "searchbox.send_keys(\"강남역 고기집\")\n",
    "\n",
    "# 검색버튼을 눌러서 결과를 가져옵니다\n",
    "searchbutton = driver.find_element_by_xpath(\"//button[@id='search.keyword.submit']\")\n",
    "driver.execute_script(\"arguments[0].click();\", searchbutton)\n",
    "\n",
    "# 검색 결과를 가져올 시간을 기다립니다\n",
    "time.sleep(2)\n",
    "\n",
    "# 검색 결과의 페이지 소스를 가져옵니다\n",
    "html = driver.page_source\n",
    "\n",
    "# BeautifulSoup을 이용하여 html 정보를 파싱합니다\n",
    "soup = BeautifulSoup(html, \"html.parser\")\n",
    "moreviews = soup.find_all(name=\"a\", attrs={\"class\":\"moreview\"})\n",
    "\n",
    "# a태그의 href 속성을 리스트로 추출하여, 크롤링 할 페이지 리스트를 생성합니다.\n",
    "page_urls = []\n",
    "for moreview in moreviews:\n",
    "    page_url = moreview.get(\"href\")\n",
    "    print(page_url)\n",
    "    page_urls.append(page_url)\n",
    "\n",
    "# 크롤링에 사용"
   ]
  },
  {
   "cell_type": "code",
   "execution_count": 4,
   "metadata": {},
   "outputs": [],
   "source": [
    "columns = ['score', 'review']\n",
    "df = pd.DataFrame(columns=columns)\n",
    "\n",
    "# driver = webdriver.Chrome(path)  # for Mac\n",
    "driver = webdriver.Chrome('C:/python/chromedriver_win32/chromedriver.exe')  # for Windows\n",
    "for page_url in page_urls:\n",
    "    \n",
    "    # 상세보기 페이지에 접속합니다\n",
    "    driver.get(page_url)\n",
    "    time.sleep(2)\n",
    "    \n",
    "    # 첫 페이지 리뷰를 크롤링합니다\n",
    "    html = driver.page_source\n",
    "    soup = BeautifulSoup(html, 'html.parser')\n",
    "    contents_div = soup.find(name=\"div\", attrs={\"class\":\"evaluation_review\"})\n",
    "    \n",
    "    # 별점을 가져옵니다.\n",
    "    rates = contents_div.find_all(name=\"em\", attrs={\"class\":\"num_rate\"})\n",
    "    \n",
    "    # 리뷰를 가져옵니다.\n",
    "    reviews = contents_div.find_all(name=\"p\", attrs={\"class\":\"txt_comment\"})\n",
    "    \n",
    "    for rate, review in zip(rates, reviews):\n",
    "        row = [rate.text[0], review.find(name=\"span\").text]\n",
    "        series = pd.Series(row, index=df.columns)\n",
    "        df = df.append(series, ignore_index=True)\n",
    "    \n",
    "    # 2-5페이지의 리뷰를 크롤링합니다\n",
    "    for button_num in range(2, 6):\n",
    "        # 오류가 나는 경우(리뷰 페이지가 없는 경우), 수행하지 않습니다.\n",
    "        try:\n",
    "            another_reviews = driver.find_element_by_xpath(\"//a[@data-page='\" + str(button_num) + \"']\")\n",
    "            another_reviews.click()\n",
    "            time.sleep(2)\n",
    "            \n",
    "            # 페이지 리뷰를 크롤링합니다\n",
    "            html = driver.page_source\n",
    "            soup = BeautifulSoup(html, 'html.parser')\n",
    "            contents_div = soup.find(name=\"div\", attrs={\"class\":\"evaluation_review\"})\n",
    "\n",
    "            # 별점을 가져옵니다.\n",
    "            rates = contents_div.find_all(name=\"em\", attrs={\"class\":\"num_rate\"})\n",
    "\n",
    "            # 리뷰를 가져옵니다.\n",
    "            reviews = contents_div.find_all(name=\"p\", attrs={\"class\":\"txt_comment\"})\n",
    "\n",
    "            for rate, review in zip(rates, reviews):\n",
    "                row = [rate.text[0], review.find(name=\"span\").text]\n",
    "                series = pd.Series(row, index=df.columns)\n",
    "                df = df.append(series, ignore_index=True)\n",
    "        except:\n",
    "            break    \n",
    "driver.close()"
   ]
  },
  {
   "cell_type": "code",
   "execution_count": 5,
   "metadata": {
    "scrolled": true
   },
   "outputs": [
    {
     "name": "stdout",
     "output_type": "stream",
     "text": [
      "(350, 3)\n"
     ]
    },
    {
     "data": {
      "text/html": [
       "<div>\n",
       "<style scoped>\n",
       "    .dataframe tbody tr th:only-of-type {\n",
       "        vertical-align: middle;\n",
       "    }\n",
       "\n",
       "    .dataframe tbody tr th {\n",
       "        vertical-align: top;\n",
       "    }\n",
       "\n",
       "    .dataframe thead th {\n",
       "        text-align: right;\n",
       "    }\n",
       "</style>\n",
       "<table border=\"1\" class=\"dataframe\">\n",
       "  <thead>\n",
       "    <tr style=\"text-align: right;\">\n",
       "      <th></th>\n",
       "      <th>score</th>\n",
       "      <th>review</th>\n",
       "      <th>y</th>\n",
       "    </tr>\n",
       "  </thead>\n",
       "  <tbody>\n",
       "    <tr>\n",
       "      <th>0</th>\n",
       "      <td>3</td>\n",
       "      <td></td>\n",
       "      <td>0</td>\n",
       "    </tr>\n",
       "    <tr>\n",
       "      <th>1</th>\n",
       "      <td>5</td>\n",
       "      <td>여기는 무조건 치즈 추가 필수 줄여서 치추필 기억하세요 치추필 뭐라고요 치추필</td>\n",
       "      <td>1</td>\n",
       "    </tr>\n",
       "    <tr>\n",
       "      <th>2</th>\n",
       "      <td>5</td>\n",
       "      <td>치즈닭갈비 너무맛있어요 ㅠㅠ 깔끔하고 좋아요</td>\n",
       "      <td>1</td>\n",
       "    </tr>\n",
       "    <tr>\n",
       "      <th>3</th>\n",
       "      <td>5</td>\n",
       "      <td>동네에 체인점 있었을 때 맛있어서 많이 갔었는데~~! 지금은 없어졌지만 강남 들른김...</td>\n",
       "      <td>1</td>\n",
       "    </tr>\n",
       "    <tr>\n",
       "      <th>4</th>\n",
       "      <td>5</td>\n",
       "      <td>양 많고 맛있네요~!</td>\n",
       "      <td>1</td>\n",
       "    </tr>\n",
       "    <tr>\n",
       "      <th>5</th>\n",
       "      <td>5</td>\n",
       "      <td>닭갈비 양도 많고 맛있어요!</td>\n",
       "      <td>1</td>\n",
       "    </tr>\n",
       "    <tr>\n",
       "      <th>6</th>\n",
       "      <td>5</td>\n",
       "      <td>여긴 치즈추가 필수에요 ㅜㅜ 매콤한 닭갈비에 싸악 싸먹으면…. 가성비도 넘 좋아용 ...</td>\n",
       "      <td>1</td>\n",
       "    </tr>\n",
       "    <tr>\n",
       "      <th>7</th>\n",
       "      <td>5</td>\n",
       "      <td>정말 맛있어요..   가성비최고</td>\n",
       "      <td>1</td>\n",
       "    </tr>\n",
       "    <tr>\n",
       "      <th>8</th>\n",
       "      <td>1</td>\n",
       "      <td>난생 처음 보는 비상식적인 응대에 감탄하고 갑니다. 직원분이 하시는 말 못 들은 상...</td>\n",
       "      <td>0</td>\n",
       "    </tr>\n",
       "    <tr>\n",
       "      <th>9</th>\n",
       "      <td>1</td>\n",
       "      <td>사회적 상황이 악화되는 상황에서 좀 나은 서비스로 장사 하세요 서비스 너무 최 악 ...</td>\n",
       "      <td>0</td>\n",
       "    </tr>\n",
       "    <tr>\n",
       "      <th>10</th>\n",
       "      <td>1</td>\n",
       "      <td>아니 알바생인지 매니저인지 모르겠는데 자리를 옮겼다고 말도 안하고 저희가 옮긴것도 ...</td>\n",
       "      <td>0</td>\n",
       "    </tr>\n",
       "    <tr>\n",
       "      <th>11</th>\n",
       "      <td>4</td>\n",
       "      <td></td>\n",
       "      <td>1</td>\n",
       "    </tr>\n",
       "    <tr>\n",
       "      <th>12</th>\n",
       "      <td>3</td>\n",
       "      <td>양념이 너무 달다. 그래도 배는 부름</td>\n",
       "      <td>0</td>\n",
       "    </tr>\n",
       "    <tr>\n",
       "      <th>13</th>\n",
       "      <td>1</td>\n",
       "      <td>알바생들이 교육이 잘안된건지 융통성이 없던건지ㅋㅋㅋㅋㅋ 볶음밥시켰는데 불이 계속 안...</td>\n",
       "      <td>0</td>\n",
       "    </tr>\n",
       "    <tr>\n",
       "      <th>14</th>\n",
       "      <td>1</td>\n",
       "      <td>먹다 수세미? 조각 나와서 사장 나와라고 하고 싶었지만, 용기가 없어서 그냥 나옴 ...</td>\n",
       "      <td>0</td>\n",
       "    </tr>\n",
       "  </tbody>\n",
       "</table>\n",
       "</div>"
      ],
      "text/plain": [
       "   score                                             review  y\n",
       "0      3                                                     0\n",
       "1      5        여기는 무조건 치즈 추가 필수 줄여서 치추필 기억하세요 치추필 뭐라고요 치추필  1\n",
       "2      5                          치즈닭갈비 너무맛있어요 ㅠㅠ 깔끔하고 좋아요   1\n",
       "3      5  동네에 체인점 있었을 때 맛있어서 많이 갔었는데~~! 지금은 없어졌지만 강남 들른김...  1\n",
       "4      5                                        양 많고 맛있네요~!  1\n",
       "5      5                                    닭갈비 양도 많고 맛있어요!  1\n",
       "6      5  여긴 치즈추가 필수에요 ㅜㅜ 매콤한 닭갈비에 싸악 싸먹으면…. 가성비도 넘 좋아용 ...  1\n",
       "7      5                                  정말 맛있어요..   가성비최고  1\n",
       "8      1  난생 처음 보는 비상식적인 응대에 감탄하고 갑니다. 직원분이 하시는 말 못 들은 상...  0\n",
       "9      1  사회적 상황이 악화되는 상황에서 좀 나은 서비스로 장사 하세요 서비스 너무 최 악 ...  0\n",
       "10     1  아니 알바생인지 매니저인지 모르겠는데 자리를 옮겼다고 말도 안하고 저희가 옮긴것도 ...  0\n",
       "11     4                                                     1\n",
       "12     3                               양념이 너무 달다. 그래도 배는 부름  0\n",
       "13     1  알바생들이 교육이 잘안된건지 융통성이 없던건지ㅋㅋㅋㅋㅋ 볶음밥시켰는데 불이 계속 안...  0\n",
       "14     1  먹다 수세미? 조각 나와서 사장 나와라고 하고 싶었지만, 용기가 없어서 그냥 나옴 ...  0"
      ]
     },
     "execution_count": 5,
     "metadata": {},
     "output_type": "execute_result"
    }
   ],
   "source": [
    "# 4점 이상의 리뷰는 긍정 리뷰, 3점 이하의 리뷰는 부정 리뷰로 평가합니다.\n",
    "df['y'] = df['score'].apply(lambda x: 1 if float(x) > 3 else 0)\n",
    "print(df.shape)\n",
    "df.head(15)"
   ]
  },
  {
   "cell_type": "code",
   "execution_count": 6,
   "metadata": {},
   "outputs": [],
   "source": [
    "df.to_csv(\"review_data.csv\", index=False)"
   ]
  },
  {
   "cell_type": "markdown",
   "metadata": {},
   "source": [
    "## Step 2. 전처리"
   ]
  },
  {
   "cell_type": "code",
   "execution_count": 7,
   "metadata": {},
   "outputs": [],
   "source": [
    "df = pd.read_csv(\"review_data.csv\")"
   ]
  },
  {
   "cell_type": "code",
   "execution_count": 8,
   "metadata": {},
   "outputs": [],
   "source": [
    "import re\n",
    "# 텍스트 정제 함수 : 한글 이외의 문자는 전부 제거 -> 한글만 추출을 했음.\n",
    "def text_cleaning(text):\n",
    "    # 한글의 정규표현식으로 한글만 추출합니다.\n",
    "    hangul = re.compile('[^ ㄱ-ㅣ가-힣]+')   # 한글과 띄어쓰기를 제외한 모든 글자.\n",
    "    result = hangul.sub('', str(text)) # 한글과 띄어쓰기를 제외한 모든 부분을 제거\n",
    "    return result"
   ]
  },
  {
   "cell_type": "code",
   "execution_count": 9,
   "metadata": {
    "scrolled": true
   },
   "outputs": [
    {
     "data": {
      "text/html": [
       "<div>\n",
       "<style scoped>\n",
       "    .dataframe tbody tr th:only-of-type {\n",
       "        vertical-align: middle;\n",
       "    }\n",
       "\n",
       "    .dataframe tbody tr th {\n",
       "        vertical-align: top;\n",
       "    }\n",
       "\n",
       "    .dataframe thead th {\n",
       "        text-align: right;\n",
       "    }\n",
       "</style>\n",
       "<table border=\"1\" class=\"dataframe\">\n",
       "  <thead>\n",
       "    <tr style=\"text-align: right;\">\n",
       "      <th></th>\n",
       "      <th>score</th>\n",
       "      <th>y</th>\n",
       "      <th>ko_text</th>\n",
       "    </tr>\n",
       "  </thead>\n",
       "  <tbody>\n",
       "    <tr>\n",
       "      <th>1</th>\n",
       "      <td>3</td>\n",
       "      <td>0</td>\n",
       "      <td>양념이 너무 달다 그래도 배는 부름</td>\n",
       "    </tr>\n",
       "    <tr>\n",
       "      <th>2</th>\n",
       "      <td>1</td>\n",
       "      <td>0</td>\n",
       "      <td>알바생들이 교육이 잘안된건지 융통성이 없던건지ㅋㅋㅋㅋㅋ 볶음밥시켰는데 불이 계속 안...</td>\n",
       "    </tr>\n",
       "    <tr>\n",
       "      <th>3</th>\n",
       "      <td>1</td>\n",
       "      <td>0</td>\n",
       "      <td>먹다 수세미 조각 나와서 사장 나와라고 하고 싶었지만 용기가 없어서 그냥 나옴  가...</td>\n",
       "    </tr>\n",
       "    <tr>\n",
       "      <th>4</th>\n",
       "      <td>4</td>\n",
       "      <td>1</td>\n",
       "      <td>배불러요</td>\n",
       "    </tr>\n",
       "    <tr>\n",
       "      <th>5</th>\n",
       "      <td>1</td>\n",
       "      <td>0</td>\n",
       "      <td>옛전에는 이러지 않았는데 아쉽네요 닭갈비랑 볶음밥 양이 엄청 작아졌고 명동점은 닭갈...</td>\n",
       "    </tr>\n",
       "  </tbody>\n",
       "</table>\n",
       "</div>"
      ],
      "text/plain": [
       "   score  y                                            ko_text\n",
       "1      3  0                                양념이 너무 달다 그래도 배는 부름\n",
       "2      1  0  알바생들이 교육이 잘안된건지 융통성이 없던건지ㅋㅋㅋㅋㅋ 볶음밥시켰는데 불이 계속 안...\n",
       "3      1  0  먹다 수세미 조각 나와서 사장 나와라고 하고 싶었지만 용기가 없어서 그냥 나옴  가...\n",
       "4      4  1                                               배불러요\n",
       "5      1  0  옛전에는 이러지 않았는데 아쉽네요 닭갈비랑 볶음밥 양이 엄청 작아졌고 명동점은 닭갈..."
      ]
     },
     "execution_count": 9,
     "metadata": {},
     "output_type": "execute_result"
    }
   ],
   "source": [
    "# 함수를 적용하여 리뷰에서 한글만 추출합니다.\n",
    "df = pd.read_csv(\"review_data.csv\")\n",
    "df['ko_text'] = df['review'].apply(lambda x: text_cleaning(x))\n",
    "del df['review']\n",
    "\n",
    "# 한 글자 이상의 텍스트를 가지고 있는 데이터만 추출합니다\n",
    "df = df[df['ko_text'].str.len() > 0]\n",
    "df.head()"
   ]
  },
  {
   "cell_type": "markdown",
   "metadata": {},
   "source": [
    "## 2.2 형태소 단위로 추출"
   ]
  },
  {
   "cell_type": "code",
   "execution_count": 10,
   "metadata": {
    "scrolled": true
   },
   "outputs": [
    {
     "name": "stdout",
     "output_type": "stream",
     "text": [
      "['양념/Noun', '이/Josa', '너무/Adverb', '달다/Verb', '그래도/Adverb', '배는/Verb', '부름/Verb']\n"
     ]
    }
   ],
   "source": [
    "import tweepy\n",
    "from konlpy.tag import Okt\n",
    "\n",
    "# konlpy라이브러리로 텍스트 데이터에서 형태소를 추출합니다.\n",
    "def get_pos(x):\n",
    "    tagger = Okt()\n",
    "    pos = tagger.pos(x)\n",
    "    pos = ['{}/{}'.format(word,tag) for word, tag in pos]\n",
    "    return pos\n",
    "\n",
    "# 형태소 추출 동작을 테스트합니다.\n",
    "result = get_pos(df['ko_text'].values[0])\n",
    "print(result)"
   ]
  },
  {
   "cell_type": "markdown",
   "metadata": {},
   "source": [
    "## 2.3 분류 모델의 학습 데이터로 변환하기"
   ]
  },
  {
   "cell_type": "markdown",
   "metadata": {},
   "source": [
    "### corpus index 생성하기"
   ]
  },
  {
   "cell_type": "code",
   "execution_count": 11,
   "metadata": {},
   "outputs": [],
   "source": [
    "from sklearn.feature_extraction.text import CountVectorizer\n",
    "\n",
    "# 형태소를 벡터 형태의 학습 데이터셋(X 데이터)으로 변환합니다.\n",
    "# tokenizer를 정의 : 스페이스바를 구분하여 나누어주는것.\n",
    "# fit_transform : df의 tolist 말뭉치를 벡터를 카운트해주는 연산을 해줌.\n",
    "index_vectorizer = CountVectorizer(tokenizer = lambda x: get_pos(x))\n",
    "X = index_vectorizer.fit_transform(df['ko_text'].tolist())"
   ]
  },
  {
   "cell_type": "code",
   "execution_count": 12,
   "metadata": {},
   "outputs": [
    {
     "data": {
      "text/plain": [
       "(285, 2215)"
      ]
     },
     "execution_count": 12,
     "metadata": {},
     "output_type": "execute_result"
    }
   ],
   "source": [
    "# 272개의 데이터가 2106개의 형태소가 들어있다.\n",
    "X.shape"
   ]
  },
  {
   "cell_type": "code",
   "execution_count": 13,
   "metadata": {},
   "outputs": [
    {
     "name": "stdout",
     "output_type": "stream",
     "text": [
      "{'양념/Noun': 1361, '이/Josa': 1556, '너무/Adverb': 389, '달다/Verb': 466, '그래도/Adverb': 235, '배는/Verb': 91..\n"
     ]
    }
   ],
   "source": [
    "print(str(index_vectorizer.vocabulary_)[:100]+\"..\")"
   ]
  },
  {
   "cell_type": "code",
   "execution_count": 14,
   "metadata": {
    "scrolled": true
   },
   "outputs": [
    {
     "name": "stdout",
     "output_type": "stream",
     "text": [
      "양념이 너무 달다 그래도 배는 부름\n",
      "  (0, 1361)\t1\n",
      "  (0, 1556)\t1\n",
      "  (0, 389)\t1\n",
      "  (0, 466)\t1\n",
      "  (0, 235)\t1\n",
      "  (0, 918)\t1\n",
      "  (0, 988)\t1\n"
     ]
    }
   ],
   "source": [
    "# 1288번벡터 937까지는 1 나머지는 0으로 되어있음.\n",
    "print(df['ko_text'].values[0])\n",
    "print(X[0])"
   ]
  },
  {
   "cell_type": "code",
   "execution_count": 54,
   "metadata": {},
   "outputs": [],
   "source": [
    "from sklearn.feature_extraction.text import TfidfTransformer\n",
    "\n",
    "# TF-IDF 방법으로, 형태소를 벡터 형태의 학습 데이터셋(X 데이터)으로 변환합니다.\n",
    "# TF-IDF 텍스트 마이닝에서 이용하는가중치. 특정 문서내에서 얼마나 중요한지를 알수있는 통계적 수치.\n",
    "# 1에 높을수록 많은 수치. 0에 가까울수록 적은 수치.\n",
    "tfidf_vectorizer = TfidfTransformer()\n",
    "X = tfidf_vectorizer.fit_transform(X)"
   ]
  },
  {
   "cell_type": "code",
   "execution_count": 55,
   "metadata": {},
   "outputs": [
    {
     "name": "stdout",
     "output_type": "stream",
     "text": [
      "(285, 2215)\n",
      "  (0, 235)\t0.42719491803649035\n",
      "  (0, 389)\t0.1140761893746495\n",
      "  (0, 466)\t0.49180501331475335\n",
      "  (0, 918)\t0.49180501331475335\n",
      "  (0, 988)\t0.49180501331475335\n",
      "  (0, 1361)\t0.27498915506297866\n",
      "  (0, 1556)\t0.057057657283929406\n"
     ]
    }
   ],
   "source": [
    "# 다른 문서들에도 얼마나 나오는지 확인.\n",
    "print(X.shape)\n",
    "print(X[0])"
   ]
  },
  {
   "cell_type": "markdown",
   "metadata": {},
   "source": [
    "# Step 3. 분류 : 긍정 부정 리뷰 분류하기"
   ]
  },
  {
   "cell_type": "markdown",
   "metadata": {},
   "source": [
    "## 분류 모델링"
   ]
  },
  {
   "cell_type": "markdown",
   "metadata": {},
   "source": [
    "### 데이터셋 분리"
   ]
  },
  {
   "cell_type": "code",
   "execution_count": 56,
   "metadata": {},
   "outputs": [
    {
     "name": "stdout",
     "output_type": "stream",
     "text": [
      "(199, 2215)\n",
      "(86, 2215)\n"
     ]
    }
   ],
   "source": [
    "# 테스트와 실험 데이터를 나눔.\n",
    "# 7:3 으로 나눔\n",
    "from sklearn.model_selection import train_test_split\n",
    "\n",
    "y = df['y']\n",
    "x_train, x_test, y_train, y_test = train_test_split(X, y, test_size=0.30)\n",
    "print(x_train.shape)\n",
    "print(x_test.shape)"
   ]
  },
  {
   "cell_type": "markdown",
   "metadata": {},
   "source": [
    "## Step 4. <분석>"
   ]
  },
  {
   "cell_type": "markdown",
   "metadata": {},
   "source": [
    "### Logistic Regression"
   ]
  },
  {
   "cell_type": "code",
   "execution_count": 57,
   "metadata": {},
   "outputs": [
    {
     "name": "stdout",
     "output_type": "stream",
     "text": [
      "accuracy: 0.57\n",
      "Precision : 0.576\n",
      "Recall : 0.980\n",
      "F1 : 0.726\n"
     ]
    }
   ],
   "source": [
    "from sklearn.linear_model import LogisticRegression\n",
    "from sklearn.metrics import accuracy_score, precision_score, recall_score, f1_score\n",
    "\n",
    "# 로지스틱 회귀모델을 학습합니다.\n",
    "lr = LogisticRegression(random_state=0)\n",
    "lr.fit(x_train, y_train)\n",
    "y_pred = lr.predict(x_test)\n",
    "y_pred_probability = lr.predict_proba(x_test)[:,1] # auc를 계산하기 위한 계산식.\n",
    "\n",
    "# 로지스틱 회귀모델의 성능을 평가합니다.\n",
    "print(\"accuracy: %.2f\" % accuracy_score(y_test, y_pred))\n",
    "print(\"Precision : %.3f\" % precision_score(y_test, y_pred))\n",
    "print(\"Recall : %.3f\" % recall_score(y_test, y_pred))\n",
    "print(\"F1 : %.3f\" % f1_score(y_test, y_pred))"
   ]
  },
  {
   "cell_type": "code",
   "execution_count": 58,
   "metadata": {},
   "outputs": [
    {
     "name": "stdout",
     "output_type": "stream",
     "text": [
      "[[ 0 36]\n",
      " [ 1 49]]\n"
     ]
    }
   ],
   "source": [
    "# 극단적인 모델이 만들어짐.\n",
    "from sklearn.metrics import confusion_matrix\n",
    "\n",
    "# Confusion Matrix를 출력합니다.\n",
    "confmat = confusion_matrix(y_true=y_test, y_pred=y_pred)\n",
    "print(confmat)"
   ]
  },
  {
   "cell_type": "code",
   "execution_count": 59,
   "metadata": {
    "scrolled": false
   },
   "outputs": [
    {
     "name": "stdout",
     "output_type": "stream",
     "text": [
      "AUC : 0.856\n"
     ]
    },
    {
     "data": {
      "text/plain": [
       "<matplotlib.legend.Legend at 0x1c4cec75b38>"
      ]
     },
     "execution_count": 59,
     "metadata": {},
     "output_type": "execute_result"
    },
    {
     "data": {
      "image/png": "[encoded data removed]",
      "text/plain": [
       "<Figure size 360x288 with 1 Axes>"
      ]
     },
     "metadata": {
      "needs_background": "light"
     },
     "output_type": "display_data"
    }
   ],
   "source": [
    "from sklearn.metrics import roc_curve, roc_auc_score\n",
    "\n",
    "# AUC를 계산합니다.\n",
    "false_positive_rate, true_positive_rate, thresholds = roc_curve(y_test, y_pred_probability)\n",
    "roc_auc = roc_auc_score(y_test, y_pred_probability)\n",
    "print(\"AUC : %.3f\" % roc_auc)\n",
    "\n",
    "# ROC curve 그래프를 출력합니다.\n",
    "plt.rcParams['figure.figsize'] = [5, 4] # 그래프 사이즈\n",
    "plt.plot(false_positive_rate, true_positive_rate, label='ROC curve (area = %0.3f)' % roc_auc, \n",
    "         color='red', linewidth=4.0)\n",
    "plt.plot([0, 1], [0, 1], 'k--')\n",
    "plt.xlim([0.0, 1.0])\n",
    "plt.ylim([0.0, 1.0])\n",
    "plt.xlabel('False Positive Rate')\n",
    "plt.ylabel('True Positive Rate')\n",
    "plt.title('ROC curve of Logistic regression')\n",
    "plt.legend(loc=\"lower right\")"
   ]
  },
  {
   "cell_type": "markdown",
   "metadata": {},
   "source": [
    "# Step 5. 활용 : 중요 키워드 분석"
   ]
  },
  {
   "cell_type": "markdown",
   "metadata": {},
   "source": [
    "## 회귀모델의 피처 영향력 추출"
   ]
  },
  {
   "cell_type": "code",
   "execution_count": 68,
   "metadata": {},
   "outputs": [
    {
     "data": {
      "text/plain": [
       "<BarContainer object of 2215 artists>"
      ]
     },
     "execution_count": 68,
     "metadata": {},
     "output_type": "execute_result"
    },
    {
     "data": {
      "image/png": "[encoded data removed]",
      "text/plain": [
       "<Figure size 720x576 with 1 Axes>"
      ]
     },
     "metadata": {
      "needs_background": "light"
     },
     "output_type": "display_data"
    }
   ],
   "source": [
    "# 학습한 회귀 모델의 계수를 출력합니다.\n",
    "# 각 x가 y값에 얼마나 영향을 주는지 나타내는것.\n",
    "plt.rcParams['figure.figsize'] = [10, 8]\n",
    "plt.xlabel('Index Number')\n",
    "plt.ylabel('Regression Coefficient')\n",
    "plt.bar(range(len(lr.coef_[0])), lr.coef_[0])"
   ]
  },
  {
   "cell_type": "code",
   "execution_count": 69,
   "metadata": {},
   "outputs": [
    {
     "name": "stdout",
     "output_type": "stream",
     "text": [
      "[(1.1496255924694365, 730), (0.8861027696206428, 737), (0.6423640294191645, 726), (0.5764574120982886, 709), (0.5255386004269242, 713)]\n",
      "[(-0.46769812775484737, 951), (-0.48299714468144056, 1390), (-0.5055842826366723, 159), (-0.5162004412911856, 496), (-0.6106145486986049, 1556)]\n"
     ]
    }
   ],
   "source": [
    "print(sorted(((value, index) for index, value in enumerate(lr.coef_[0])), reverse=True)[:5])\n",
    "print(sorted(((value, index) for index, value in enumerate(lr.coef_[0])), reverse=True)[-5:])"
   ]
  },
  {
   "cell_type": "markdown",
   "metadata": {},
   "source": [
    "## 중요 피처의 형태소"
   ]
  },
  {
   "cell_type": "code",
   "execution_count": 70,
   "metadata": {},
   "outputs": [],
   "source": [
    "# 회귀 모델의 계수를 높은 순으로 정렬합니다. \n",
    "coef_pos_index = sorted(((value, index) for index, value in enumerate(lr.coef_[0])), reverse=True)"
   ]
  },
  {
   "cell_type": "code",
   "execution_count": 71,
   "metadata": {},
   "outputs": [
    {
     "name": "stdout",
     "output_type": "stream",
     "text": [
      "{1361: '양념/Noun', 1556: '이/Josa', 389: '너무/Adverb', 466: '달다/Verb', 235: '그래도/Adverb', 918: '배는/Verb..\n"
     ]
    }
   ],
   "source": [
    "# 회귀 모델의 계수를 index_vectorizer에 맵핑하여, 어떤 형태소인지 출력할 수 있게 합니다.\n",
    "invert_index_vectorizer = {v: k for k, v in index_vectorizer.vocabulary_.items()}\n",
    "\n",
    "# 계수가 높은 순으로, 피처에 형태소를 맵핑한 결과를 출력합니다. 계수가 높은 피처는 리뷰에 긍정적인 영향을 주는 형태소라고 할 수 있습니다.\n",
    "print(str(invert_index_vectorizer)[:100]+'..')"
   ]
  },
  {
   "cell_type": "code",
   "execution_count": 72,
   "metadata": {
    "scrolled": true
   },
   "outputs": [
    {
     "name": "stdout",
     "output_type": "stream",
     "text": [
      "맛있어요/Adjective 1.1496255924694365\n",
      "맛있음/Adjective 0.8861027696206428\n",
      "맛있습니다/Adjective 0.6423640294191645\n",
      "맛있게/Adjective 0.5764574120982886\n",
      "맛있네요/Adjective 0.5255386004269242\n",
      "넘/Verb 0.5203509830464659\n",
      "존맛/Noun 0.5106030532848642\n",
      "ㅎㅎ/KoreanParticle 0.4530030450780512\n",
      "최고/Noun 0.4161091565839285\n",
      "좋네요/Adjective 0.3981748188829487\n",
      "완전/Noun 0.39655733525550163\n",
      "깔끔하고/Adjective 0.38435704737816356\n",
      "왔어요/Verb 0.3417026017228314\n",
      "친절하시고/Adjective 0.32346324109477215\n",
      "갑/Noun 0.32288921779994617\n",
      "구워주시고/Verb 0.3190329642325413\n",
      "된장찌개/Noun 0.3174378180451434\n",
      "먹었어요/Verb 0.30753679209218093\n",
      "배불러요/Adjective 0.30730667022952995\n",
      "맛있댜/Noun 0.30730667022952995\n"
     ]
    }
   ],
   "source": [
    "# 상위 20개 긍정 형태소를 출력합니다.\n",
    "for coef in coef_pos_index[:20]:\n",
    "    print(invert_index_vectorizer[coef[1]], coef[0])"
   ]
  },
  {
   "cell_type": "code",
   "execution_count": 73,
   "metadata": {},
   "outputs": [
    {
     "name": "stdout",
     "output_type": "stream",
     "text": [
      "요/Josa -0.3594089380103578\n",
      "반찬/Noun -0.3636569653190999\n",
      "별로/Noun -0.3689433483679204\n",
      "점/Noun -0.38350706058150646\n",
      "가격/Noun -0.38536574604761087\n",
      "비추/Verb -0.38931703417722696\n",
      "무질/Noun -0.392961513791947\n",
      "겨/Noun -0.392961513791947\n",
      "마세요/Verb -0.39879778953999495\n",
      "닥/Noun -0.3991203609317251\n",
      "가지/Noun -0.4023953500133597\n",
      "는/Josa -0.4078999485389708\n",
      "건지/Verb -0.4111537998308524\n",
      "은/Josa -0.43746889849168935\n",
      "좀/Noun -0.44250218448454154\n",
      "보단/Josa -0.46769812775484737\n",
      "없고/Adjective -0.48299714468144056\n",
      "고기/Noun -0.5055842826366723\n",
      "대비/Noun -0.5162004412911856\n",
      "이/Josa -0.6106145486986049\n"
     ]
    }
   ],
   "source": [
    "# 상위 20개 부정 형태소를 출력합니다.\n",
    "for coef in coef_pos_index[-20:]:\n",
    "    print(invert_index_vectorizer[coef[1]], coef[0])"
   ]
  },
  {
   "cell_type": "markdown",
   "metadata": {},
   "source": [
    "### 품사별 긍정 형태소 10개, 부정 형태소 10개"
   ]
  },
  {
   "cell_type": "code",
   "execution_count": 27,
   "metadata": {},
   "outputs": [],
   "source": [
    "noun_list = []\n",
    "adjective_list = []\n",
    "\n",
    "# 명사, 형용사별로 계수가 높은 상위 10개의 형태소를 추출합니다. 이는 리뷰에 긍정적인 영향을 주는 명사와 형용사를 순위별로 살펴보는 것이 됩니다.\n",
    "for coef in coef_pos_index[:100]:\n",
    "    pos_category = invert_index_vectorizer[coef[1]].split(\"/\")[1]\n",
    "    if pos_category == \"Noun\":\n",
    "        noun_list.append((invert_index_vectorizer[coef[1]], coef[0]))\n",
    "    elif pos_category == \"Adjective\":\n",
    "        adjective_list.append((invert_index_vectorizer[coef[1]], coef[0]))"
   ]
  },
  {
   "cell_type": "code",
   "execution_count": 28,
   "metadata": {},
   "outputs": [
    {
     "data": {
      "text/plain": [
       "[('존맛/Noun', 0.6091819130514096),\n",
       " ('최고/Noun', 0.5765485686158516),\n",
       " ('술/Noun', 0.3938880537966917),\n",
       " ('완전/Noun', 0.3638015298223194),\n",
       " ('가성/Noun', 0.3275444684467627),\n",
       " ('쫀득살/Noun', 0.3035468254754522),\n",
       " ('거기/Noun', 0.3030871301084868),\n",
       " ('사이드/Noun', 0.29721934129365923),\n",
       " ('맛있댜/Noun', 0.29187960561961473),\n",
       " ('맛맛/Noun', 0.29187960561961473)]"
      ]
     },
     "execution_count": 28,
     "metadata": {},
     "output_type": "execute_result"
    }
   ],
   "source": [
    "# 상위 10개의 명사를 출력합니다.\n",
    "noun_list[:10]"
   ]
  },
  {
   "cell_type": "code",
   "execution_count": 29,
   "metadata": {},
   "outputs": [
    {
     "data": {
      "text/plain": [
       "[('맛있어요/Adjective', 1.2039915978518736),\n",
       " ('맛있음/Adjective', 0.8152071812980459),\n",
       " ('맛있고/Adjective', 0.6756761437330765),\n",
       " ('맛있게/Adjective', 0.6251837191232374),\n",
       " ('맛있네요/Adjective', 0.35736195817705485),\n",
       " ('맛있습니다/Adjective', 0.34899228355435924),\n",
       " ('괜찮음/Adjective', 0.33188086997325317),\n",
       " ('좋네요/Adjective', 0.2755093068458876),\n",
       " ('괜찮았어요/Adjective', 0.2551019874229683),\n",
       " ('고소한/Adjective', 0.2486095714338775)]"
      ]
     },
     "execution_count": 29,
     "metadata": {},
     "output_type": "execute_result"
    }
   ],
   "source": [
    "# 상위 10개의 형용사를 출력합니다.\n",
    "adjective_list[:10]"
   ]
  },
  {
   "cell_type": "code",
   "execution_count": null,
   "metadata": {},
   "outputs": [],
   "source": []
  }
 ],
 "metadata": {
  "kernelspec": {
   "display_name": "pythonp",
   "language": "python",
   "name": "pythonp"
  },
  "language_info": {
   "codemirror_mode": {
    "name": "ipython",
    "version": 3
   },
   "file_extension": ".py",
   "mimetype": "text/x-python",
   "name": "python",
   "nbconvert_exporter": "python",
   "pygments_lexer": "ipython3",
   "version": "3.6.12"
  }
 },
 "nbformat": 4,
 "nbformat_minor": 4
}
